{
 "cells": [
  {
   "cell_type": "markdown",
   "id": "c636a3b7-b4d2-4def-9a73-5381b23dd6cb",
   "metadata": {},
   "source": [
    "# 1. Project background and Data acquisition\n",
    "## Project background\n",
    "In my project, I’m setting out to develop an effective image classification model that can accurately distinguish between various types of scenes. I’m particularly excited about exploring how deep learning can address challenges like similar-looking classes and varying lighting conditions in real-world images. My goal is to explore models on a well-curated datasets and perform small fine-tunings to improve model performance. This work can be used further in business context for projects which involve automated alt text generation, scene recognition and  and security projects like CAPTCHA.\n",
    "\n",
    "## Data acquisition\n",
    "For data acquisition, I chose the [Intel Image Classification dataset](https://www.kaggle.com/datasets/puneet6060/intel-image-classification/data) from Kaggle. This dataset offers a balanced mix of high-quality images spanning different environments such as buildings, forests, glaciers, mountains, sea, and streets—making it ideal for testing and training my model. I plan to experiment with various preprocessing techniques like resizing, normalization, and augmentation to get the best performance. I will be using a Transfer learning method to iterate between different models like Inception V3, ResNet 50 and VCG 16."
   ]
  }
 ],
 "metadata": {
  "kernelspec": {
   "display_name": "Python 3 (ipykernel)",
   "language": "python",
   "name": "python3"
  },
  "language_info": {
   "codemirror_mode": {
    "name": "ipython",
    "version": 3
   },
   "file_extension": ".py",
   "mimetype": "text/x-python",
   "name": "python",
   "nbconvert_exporter": "python",
   "pygments_lexer": "ipython3",
   "version": "3.12.8"
  }
 },
 "nbformat": 4,
 "nbformat_minor": 5
}
